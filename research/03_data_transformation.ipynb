{
 "cells": [
  {
   "cell_type": "code",
   "execution_count": 1,
   "id": "97806a4e-21e7-437b-bc90-3464b24285d8",
   "metadata": {},
   "outputs": [],
   "source": [
    "import os"
   ]
  },
  {
   "cell_type": "code",
   "execution_count": 2,
   "id": "8c2e73df-721a-4be5-87ba-478cf976ea80",
   "metadata": {},
   "outputs": [
    {
     "data": {
      "text/plain": [
       "'D:\\\\Python\\\\MLProjectsPW\\\\EEG_EYE\\\\research'"
      ]
     },
     "execution_count": 2,
     "metadata": {},
     "output_type": "execute_result"
    }
   ],
   "source": [
    "%pwd"
   ]
  },
  {
   "cell_type": "code",
   "execution_count": 3,
   "id": "d0ccf0fa-8077-4e1c-b073-18ddc3b90a17",
   "metadata": {},
   "outputs": [],
   "source": [
    "os.chdir(\"../\")"
   ]
  },
  {
   "cell_type": "code",
   "execution_count": 4,
   "id": "b3898d50-ec3b-46cc-8c38-8e9ce0d762e2",
   "metadata": {},
   "outputs": [
    {
     "data": {
      "text/plain": [
       "'D:\\\\Python\\\\MLProjectsPW\\\\EEG_EYE'"
      ]
     },
     "execution_count": 4,
     "metadata": {},
     "output_type": "execute_result"
    }
   ],
   "source": [
    "%pwd"
   ]
  },
  {
   "cell_type": "code",
   "execution_count": 5,
   "id": "50ff5e2d-f047-49da-b604-4893ef7c5122",
   "metadata": {},
   "outputs": [],
   "source": [
    "from dataclasses import dataclass\n",
    "from pathlib import Path"
   ]
  },
  {
   "cell_type": "code",
   "execution_count": 6,
   "id": "67489abb-11bc-4a56-a131-dd6679ef89eb",
   "metadata": {},
   "outputs": [],
   "source": [
    "@dataclass(frozen=True)\n",
    "class DataTransformationConfig:\n",
    "    root_dir:Path\n",
    "    data_path:Path"
   ]
  },
  {
   "cell_type": "code",
   "execution_count": 7,
   "id": "45ed8483-596f-4897-b432-8ec1654b5381",
   "metadata": {},
   "outputs": [],
   "source": [
    "from mlProject.constants import *\n",
    "from mlProject.utils.common import read_yaml , create_directories"
   ]
  },
  {
   "cell_type": "code",
   "execution_count": 8,
   "id": "2e4b653d-613d-496a-a174-feb5bce882d6",
   "metadata": {},
   "outputs": [],
   "source": [
    "class ConfigurationManager:\n",
    "    def __init__(self,\n",
    "                 config_filepath = CONFIG_FILE_PATH,\n",
    "                 params_filepath = PARAMS_FILE_PATH,\n",
    "                 schema_filepath = SCHEMA_FILE_PATH):\n",
    "        \n",
    "        self.config = read_yaml(config_filepath)\n",
    "        self.params = read_yaml(params_filepath)\n",
    "        self.schema = read_yaml(schema_filepath)\n",
    "\n",
    "        create_directories([self.config.artifacts_root])\n",
    "\n",
    "    def get_data_transformation_config(self)->DataTransformationConfig:\n",
    "        config = self.config.data_transformation\n",
    "\n",
    "        create_directories([config.root_dir])\n",
    "\n",
    "        data_transformation_config = DataTransformationConfig(\n",
    "            root_dir=config.root_dir,\n",
    "            data_path=config.data_path\n",
    "        )\n",
    "\n",
    "        return data_transformation_config"
   ]
  },
  {
   "cell_type": "code",
   "execution_count": 12,
   "id": "6429de71-38e5-4212-920e-0b251d70359b",
   "metadata": {},
   "outputs": [],
   "source": [
    "import os\n",
    "from mlProject import logger\n",
    "from sklearn.model_selection import train_test_split\n",
    "import pandas as pd\n",
    "from scipy.io.arff import loadarff"
   ]
  },
  {
   "cell_type": "code",
   "execution_count": 15,
   "id": "0296e527-03dc-4141-85f2-cd90c9e3e91c",
   "metadata": {},
   "outputs": [],
   "source": [
    "class DataTransformation:\n",
    "    def __init__(self, config = DataTransformationConfig):\n",
    "        self.config = config\n",
    "\n",
    "    ## Note: You can add different data transformation techniques such as scaler , PCA and all\n",
    "    # You can perform all kinds of EDA in ML cycle here before passing this data to the model\n",
    "\n",
    "    # I am only adding train test split because the data is already cleaned up\n",
    "\n",
    "\n",
    "    def train_test_splitting(self):\n",
    "        data = pd.DataFrame(loadarff(self.config.data_path)[0])\n",
    "        data['eyeDetection'] = data['eyeDetection'].astype('int8')\n",
    "\n",
    "        # Split the data into train and test sets. (0.75 , 0.25) split\n",
    "        train , test = train_test_split(data,random_state=0)\n",
    "\n",
    "        train.to_csv(os.path.join(self.config.root_dir, \"train.csv\"),index = False)\n",
    "        test.to_csv(os.path.join(self.config.root_dir, \"test.csv\"),index = False)\n",
    "\n",
    "        logger.info(f\"Splited data into training and testing sets\")\n",
    "        logger.info(train.shape)\n",
    "        logger.info(test.shape)\n",
    "\n",
    "        print(train.shape)\n",
    "        print(test.shape)"
   ]
  },
  {
   "cell_type": "code",
   "execution_count": 16,
   "id": "09c42629-2f64-4b44-829d-a52a7cb1ae32",
   "metadata": {},
   "outputs": [
    {
     "name": "stdout",
     "output_type": "stream",
     "text": [
      "[2023-08-29 23:20:57,026: INFO: common: yaml file: config\\config.yaml loaded successfully]\n",
      "[2023-08-29 23:20:57,034: INFO: common: yaml file: params.yaml loaded successfully]\n",
      "[2023-08-29 23:20:57,039: INFO: common: yaml file: schema.yaml loaded successfully]\n",
      "[2023-08-29 23:20:57,041: INFO: common: created directory at :artifacts]\n",
      "[2023-08-29 23:20:57,041: INFO: common: created directory at :artifacts/data_transformation]\n",
      "[2023-08-29 23:20:57,773: INFO: 3470231904: Splited data into training and testing sets]\n",
      "[2023-08-29 23:20:57,773: INFO: 3470231904: (11235, 15)]\n",
      "[2023-08-29 23:20:57,773: INFO: 3470231904: (3745, 15)]\n",
      "(11235, 15)\n",
      "(3745, 15)\n"
     ]
    }
   ],
   "source": [
    "try:\n",
    "    config = ConfigurationManager()\n",
    "    data_transformation_config = config.get_data_transformation_config()\n",
    "    data_transformation = DataTransformation(config=data_transformation_config)\n",
    "    data_transformation.train_test_splitting()\n",
    "except Exception as e:\n",
    "    raise e"
   ]
  },
  {
   "cell_type": "code",
   "execution_count": null,
   "id": "1ed45afe-389b-48a4-8b3f-86cb83da9e01",
   "metadata": {},
   "outputs": [],
   "source": []
  }
 ],
 "metadata": {
  "kernelspec": {
   "display_name": "Python 3 (ipykernel)",
   "language": "python",
   "name": "python3"
  },
  "language_info": {
   "codemirror_mode": {
    "name": "ipython",
    "version": 3
   },
   "file_extension": ".py",
   "mimetype": "text/x-python",
   "name": "python",
   "nbconvert_exporter": "python",
   "pygments_lexer": "ipython3",
   "version": "3.8.0"
  }
 },
 "nbformat": 4,
 "nbformat_minor": 5
}
